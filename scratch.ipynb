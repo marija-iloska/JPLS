{
 "cells": [
  {
   "cell_type": "code",
   "execution_count": 1,
   "id": "initial_id",
   "metadata": {
    "collapsed": true,
    "ExecuteTime": {
     "end_time": "2023-11-14T20:26:23.085955Z",
     "start_time": "2023-11-14T20:26:22.468500Z"
    }
   },
   "outputs": [],
   "source": [
    "import numpy as np"
   ]
  },
  {
   "cell_type": "code",
   "execution_count": 36,
   "outputs": [],
   "source": [
    "a = np.array([1,2,3,4])\n",
    "b = np.array([6,2,3,1,4, 5])"
   ],
   "metadata": {
    "collapsed": false,
    "ExecuteTime": {
     "end_time": "2023-11-14T20:48:26.699734Z",
     "start_time": "2023-11-14T20:48:26.695597Z"
    }
   },
   "id": "c6f6f7665eb77989"
  },
  {
   "cell_type": "code",
   "execution_count": 60,
   "outputs": [],
   "source": [
    "idx= []\n",
    "for i in range(len(b)):\n",
    "    if b[i] in a:\n",
    "        test = np.where(a == b[i])\n",
    "        idx.append( int(test[0]) )"
   ],
   "metadata": {
    "collapsed": false,
    "ExecuteTime": {
     "end_time": "2023-11-14T20:54:05.190597Z",
     "start_time": "2023-11-14T20:54:05.184980Z"
    }
   },
   "id": "61a11dafe37f3dd1"
  },
  {
   "cell_type": "code",
   "execution_count": 61,
   "outputs": [
    {
     "data": {
      "text/plain": "[1, 2, 0, 3]"
     },
     "execution_count": 61,
     "metadata": {},
     "output_type": "execute_result"
    }
   ],
   "source": [
    "idx"
   ],
   "metadata": {
    "collapsed": false,
    "ExecuteTime": {
     "end_time": "2023-11-14T20:54:05.835457Z",
     "start_time": "2023-11-14T20:54:05.828539Z"
    }
   },
   "id": "2c945b14e63c572"
  },
  {
   "cell_type": "code",
   "execution_count": 63,
   "outputs": [
    {
     "data": {
      "text/plain": "array([2, 3, 1, 4])"
     },
     "execution_count": 63,
     "metadata": {},
     "output_type": "execute_result"
    }
   ],
   "source": [
    "a[idx]"
   ],
   "metadata": {
    "collapsed": false,
    "ExecuteTime": {
     "end_time": "2023-11-14T20:56:08.658308Z",
     "start_time": "2023-11-14T20:56:08.652983Z"
    }
   },
   "id": "17d8e3e5408bd391"
  },
  {
   "cell_type": "code",
   "execution_count": null,
   "outputs": [],
   "source": [],
   "metadata": {
    "collapsed": false
   },
   "id": "976a1a861fa8a414"
  }
 ],
 "metadata": {
  "kernelspec": {
   "display_name": "Python 3",
   "language": "python",
   "name": "python3"
  },
  "language_info": {
   "codemirror_mode": {
    "name": "ipython",
    "version": 2
   },
   "file_extension": ".py",
   "mimetype": "text/x-python",
   "name": "python",
   "nbconvert_exporter": "python",
   "pygments_lexer": "ipython2",
   "version": "2.7.6"
  }
 },
 "nbformat": 4,
 "nbformat_minor": 5
}
